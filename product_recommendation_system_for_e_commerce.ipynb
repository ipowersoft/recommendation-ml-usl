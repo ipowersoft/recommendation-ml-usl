{
 "cells": [
  {
   "cell_type": "markdown",
   "metadata": {
    "id": "JNefI9W1TsyA"
   },
   "source": [
    "<h1>Table of Contents<span class=\"tocSkip\"></span></h1>\n",
    "<div class=\"toc\"><ul class=\"toc-item\"><li><span><a href=\"#Unsupervised-Algorithms-in-Machine-Learning\" data-toc-modified-id=\"\">Unsupervised Algorithms in Machine Learning</a></span><ul class=\"toc-item\"><li><span><a href=\"#Product-Recommendation-System-for-E-Commerce-Businesses\" data-toc-modified-id=\"Product-Recommendation-System-for-E-Commerce-Businesses-1\">Product Recommendation System for E-Commerce Businesses\n",
    "    </a></span><ul class=\"toc-item\"><li><span><a href=\"#Kothandaraman-Sikamani\n",
    "\" data-toc-modified-id=\"Kothandaraman-Sikamani\n",
    "-1.1.1\"><a href=\"http://www.ipowersoft.com\" rel=\"nofollow\" target=\"_blank\">Kothandaraman Sikamani</a>\n",
    "</a></span></li></ul></li></ul></li><li><span><a href=\"#We'll-cover-below-aspects-during-this-analysis:\" data-toc-modified-id=\"We'll-cover-below-aspects-during-this-analysis:-2\">We'll cover below aspects during this analysis:</a></span></li><li><span><a href=\"#1.-Import-Libraries\" data-toc-modified-id=\"1.-Import-Libraries-3\">1. Import Libraries</a></span></li><li><span><a href=\"#2.-Loading-data\" data-toc-modified-id=\"2.-Loading-data-4\">2. Loading data</a></span><ul class=\"toc-item\"><li><ul class=\"toc-item\"><li><span><a href=\"#Function:-pandas.read_csv()\" data-toc-modified-id=\"Function:-pandas.read_csv()-4.0.1\">Function: pandas.read_csv()</a></span></li><li><span><a href=\"#Function:-DataFrame.shape()\" data-toc-modified-id=\"Function:-DataFrame.shape()-4.0.2\">Function: DataFrame.shape()</a></span></li></ul></li></ul></li><li><span><a href=\"#3.-EDA(Exploratory-Data-Analysis)\" data-toc-modified-id=\"3.-EDA-5\">3. EDA</a></span><ul class=\"toc-item\"><li><span><a href=\"#3.1.-Applying-the-isna()-and-sum()-functions\" data-toc-modified-id=\"3.1-5.1\">3.1. Applying the isna() and sum() functions</a></span></li><li><span><a href=\"#3.2.-Transform-text-data-into-a-numerical-representation\" data-toc-modified-id=\"3.2.-Transform-text-data-into-a-numerical-representation-5.2\">3.2. Transform text data into a numerical representation</a></span></li></ul></li>\n",
    "    <li><span><a href=\"#4.-Let's-do-some-Visualization\" data-toc-modified-id=\"4.-Let's-do-some-Visualization-7\">4. Let's do some Visualization</a></span></li>\n",
    "    <li><span><a href=\"#4.-Data-Processing\" data-toc-modified-id=\"4.-Data-Processing-7\">5. Data Processing</a></span><ul class=\"toc-item\">\n",
    "    <li><span><a href=\"#4.1.-Interpreting-the-results-of-a-clustering-algorithm\" data-toc-modified-id=\"4.1.-Interpreting-the-results-of-a-clustering-algorithm-7.1\">5.1. Interpreting the results of a clustering algorithm</a></span></li>\n",
    "    <li><span><a href=\"#4.2.-Performs-K-means-clustering-on-a-set-of-text-documents-represented-as-a-matrix-of-TF-IDF-values\" data-toc-modified-id=\"4.2.-Performs-K-means-clustering-on-a-set-of-text-documents-represented-as-a-matrix-of-TF-IDF-values-7.1\">5.2. Performs K-means clustering on a set of text documents represented as a matrix of TF-IDF values</a></span></li>\n",
    "    <li><span><a href=\"#4.3.-The-function-show_recommendations()\" data-toc-modified-id=\"4.3.-The-function-show_recommendations()-7.1\">5.3. The function show_recommendations()</a></span></li>\n",
    "    <li><span><a href=\"#4.4.-Predict-recommended-clusters\" data-toc-modified-id=\"4.4.-Predict-recommended-clusters-7.1\">5.4. Predict recommended clusters</a></span></li>\n",
    "    </ul></li><li><span><a href=\"#Conclusion/Summary\" data-toc-modified-id=\"Conclusion/Summary-8\">Conclusion/Summary</a></span></li></ul></div>"
   ]
  },
  {
   "cell_type": "markdown",
   "metadata": {
    "id": "blwwiSaBTsyC"
   },
   "source": [
    "<div class=\"alert alert-block alert-success\">\n",
    "    <h1 align=\"center\">Unsupervised Algorithms in Machine Learning</h1>\n",
    "    <h2 align=\"center\">Product Recommendation System for E-Commerce Businesses</h3>\n",
    "    <h3 align=\"center\"><a href=\"http://www.ipowersoft.com\">Kothandaraman Sikamani</a></h5>\n",
    "</div>"
   ]
  },
  {
   "cell_type": "markdown",
   "metadata": {
    "id": "g34-tcmqTsyC"
   },
   "source": [
    "Product Recommendation System for e-commerce businesses\n",
    "A well developed recommendation system will help businesses improve their shopper's experience on website and result in better customer acquisition and retention.\n",
    "\n",
    "The recommendation system, I have designed below is based on the journey of a new customer from the time he/she lands on the business’s website for the first time to when he/she makes repeat purchases.\n",
    "\n",
    "When a new customer without any previous purchase history visits the e-commerce website for the first time, he/she is recommended the most popular products sold on the company's website. Once, he/she makes a purchase, the recommendation system updates and recommends other products based on the purchase history and ratings provided by other users on the website. The latter part is done using collaborative filtering techniques."
   ]
  },
  {
   "cell_type": "markdown",
   "metadata": {
    "id": "KUqUjvpoTsyE"
   },
   "source": [
    "* For a business without any user-item purchase history, a search engine based recommendation system can be designed for users. The product recommendations can be based on textual clustering analysis given in product description.\n",
    "* **Dataset** : [Home Depot's dataset with product dataset.](https://www.kaggle.com/c/home-depot-product-search-relevance/data?select=product_descriptions.csv.zip)"
   ]
  },
  {
   "cell_type": "markdown",
   "metadata": {
    "id": "maROkM01TsyE"
   },
   "source": [
    "# We'll cover below aspects during this analysis:\n",
    "\n",
    "- Import Library\n",
    "- Load Data\n",
    "- EDA(Exploratory Data Analysis)\n",
    "- Visualization\n",
    "- Data Processing\n",
    "- Conclusion/Summary"
   ]
  },
  {
   "cell_type": "markdown",
   "metadata": {
    "id": "CD2sVHpTTsyF"
   },
   "source": [
    "# 1. Import Libraries"
   ]
  },
  {
   "cell_type": "markdown",
   "metadata": {
    "id": "qaB1hdkuTsyF"
   },
   "source": [
    "- NumPy (import numpy as np): NumPy is a library for working with arrays and matrices in Python. It provides various mathematical functions and operations that make it easier to work with numerical data. In this code, NumPy is being imported with the alias np, which makes it easier to refer to the library throughout the code.  \n",
    "\n",
    "\n",
    "- Pandas (import pandas as pd): Pandas is a library for working with tabular data in Python. It provides a variety of tools for data manipulation, analysis, and visualization. In this code, Pandas is being imported with the alias pd, which makes it easier to refer to the library throughout the code.  \n",
    "\n",
    "\n",
    "- Matplotlib (import matplotlib.pyplot as plt): Matplotlib is a library for creating data visualizations in Python. It provides various functions and tools for creating plots, charts, and graphs. In this code, the pyplot submodule of Matplotlib is being imported with the alias plt, which makes it easier to refer to the library throughout the code.  \n",
    "\n",
    "\n",
    "- %matplotlib inline: This is a magic command that tells Jupyter Notebook to display Matplotlib plots inline within the notebook rather than in a separate window. This command is not required outside of Jupyter Notebook.\n",
    "\n",
    "\n",
    "- plt.style.use(\"ggplot\"): This line sets the default style of Matplotlib plots to \"ggplot\", which is a popular style used in data visualization.\n",
    "\n",
    "\n",
    "- TfidfVectorizer (from sklearn.feature_extraction.text import TfidfVectorizer): TfidfVectorizer is a class from the sklearn library that is used for text feature extraction. It converts a collection of text documents into a matrix of term-frequency-inverse-document-frequency (TF-IDF) features, which can be used as input to machine learning algorithms.\n",
    "\n",
    "\n",
    "- KMeans (from sklearn.cluster import KMeans): KMeans is a class from the sklearn library that is used for clustering data. It uses the K-Means algorithm to group similar data points together based on their distance from each other."
   ]
  },
  {
   "cell_type": "code",
   "execution_count": 1,
   "metadata": {
    "id": "nAxQp1AMTsyG"
   },
   "outputs": [],
   "source": [
    "import numpy as np\n",
    "import pandas as pd\n",
    "import matplotlib.pyplot as plt\n",
    "\n",
    "%matplotlib inline\n",
    "plt.style.use(\"ggplot\")\n",
    "\n",
    "from sklearn.feature_extraction.text import TfidfVectorizer\n",
    "from sklearn.cluster import KMeans"
   ]
  },
  {
   "cell_type": "markdown",
   "metadata": {
    "id": "K0tX4xG2TsyH"
   },
   "source": [
    "# 2. Loading Data\n",
    "\n",
    "### Function: pandas.read_csv()\n",
    "\n",
    "- pd.read_csv('product_descriptions.csv'): This line reads in a CSV file called \"product_descriptions.csv\" and creates a Pandas DataFrame from it. The pd alias refers to the pandas library that was imported earlier.\n",
    "\n",
    "### Function: DataFrame.shape()\n",
    "\n",
    "- product_descriptions.shape: This line prints the shape attribute of the product_descriptions DataFrame, which returns a tuple containing the number of rows and columns in the DataFrame. The shape attribute is a built-in Pandas attribute that can be used to get the shape of a DataFrame."
   ]
  },
  {
   "cell_type": "code",
   "execution_count": 2,
   "metadata": {
    "colab": {
     "base_uri": "https://localhost:8080/"
    },
    "id": "UFBLJMuCTsyI",
    "outputId": "534d27df-0f57-4622-d8af-f510dd3277d5"
   },
   "outputs": [
    {
     "data": {
      "text/plain": [
       "(124428, 2)"
      ]
     },
     "execution_count": 2,
     "metadata": {},
     "output_type": "execute_result"
    }
   ],
   "source": [
    "product_descriptions = pd.read_csv('data/product_descriptions.csv')\n",
    "product_descriptions.shape"
   ]
  },
  {
   "cell_type": "markdown",
   "metadata": {
    "id": "o1zRDuMkTsyJ"
   },
   "source": [
    "# 3. EDA(Exploratory Data Analysis)"
   ]
  },
  {
   "cell_type": "markdown",
   "metadata": {
    "id": "fIvwtwauTsyJ"
   },
   "source": [
    "### 3.1. Applying the isna() and sum() functions\n",
    "\n",
    "- product_descriptions.isna(): This line returns a DataFrame of the same shape as product_descriptions but with True in cells where there is a missing value (i.e., a NaN) and False otherwise.\n",
    "\n",
    "\n",
    "- product_descriptions.isna().sum(): This line applies the sum() method to the DataFrame returned by product_descriptions.isna() to calculate the number of missing values in each column. The sum() method sums up the number of True values (i.e., missing values) for each column in the DataFrame."
   ]
  },
  {
   "cell_type": "code",
   "execution_count": 3,
   "metadata": {
    "colab": {
     "base_uri": "https://localhost:8080/"
    },
    "id": "gfW9upndTsyK",
    "outputId": "d4afcfe6-a944-4379-a05c-04a6be444301"
   },
   "outputs": [
    {
     "data": {
      "text/plain": [
       "product_uid            0\n",
       "product_description    0\n",
       "dtype: int64"
      ]
     },
     "execution_count": 3,
     "metadata": {},
     "output_type": "execute_result"
    }
   ],
   "source": [
    "product_descriptions.isna().sum()"
   ]
  },
  {
   "cell_type": "markdown",
   "metadata": {
    "id": "0U8LS8XhTsyK"
   },
   "source": [
    "It appears that there are no missing values in the given dataset. \n",
    "Will display first 5 records of the constructed dataframe"
   ]
  },
  {
   "cell_type": "code",
   "execution_count": 4,
   "metadata": {
    "colab": {
     "base_uri": "https://localhost:8080/",
     "height": 206
    },
    "id": "ExvndDY4TsyK",
    "outputId": "dce2c7f1-703b-4ae4-9e4a-b967b363873e"
   },
   "outputs": [
    {
     "data": {
      "text/html": [
       "<div>\n",
       "<style scoped>\n",
       "    .dataframe tbody tr th:only-of-type {\n",
       "        vertical-align: middle;\n",
       "    }\n",
       "\n",
       "    .dataframe tbody tr th {\n",
       "        vertical-align: top;\n",
       "    }\n",
       "\n",
       "    .dataframe thead th {\n",
       "        text-align: right;\n",
       "    }\n",
       "</style>\n",
       "<table border=\"1\" class=\"dataframe\">\n",
       "  <thead>\n",
       "    <tr style=\"text-align: right;\">\n",
       "      <th></th>\n",
       "      <th>product_uid</th>\n",
       "      <th>product_description</th>\n",
       "    </tr>\n",
       "  </thead>\n",
       "  <tbody>\n",
       "    <tr>\n",
       "      <th>0</th>\n",
       "      <td>100001</td>\n",
       "      <td>Not only do angles make joints stronger, they ...</td>\n",
       "    </tr>\n",
       "    <tr>\n",
       "      <th>1</th>\n",
       "      <td>100002</td>\n",
       "      <td>BEHR Premium Textured DECKOVER is an innovativ...</td>\n",
       "    </tr>\n",
       "    <tr>\n",
       "      <th>2</th>\n",
       "      <td>100003</td>\n",
       "      <td>Classic architecture meets contemporary design...</td>\n",
       "    </tr>\n",
       "    <tr>\n",
       "      <th>3</th>\n",
       "      <td>100004</td>\n",
       "      <td>The Grape Solar 265-Watt Polycrystalline PV So...</td>\n",
       "    </tr>\n",
       "    <tr>\n",
       "      <th>4</th>\n",
       "      <td>100005</td>\n",
       "      <td>Update your bathroom with the Delta Vero Singl...</td>\n",
       "    </tr>\n",
       "  </tbody>\n",
       "</table>\n",
       "</div>"
      ],
      "text/plain": [
       "   product_uid                                product_description\n",
       "0       100001  Not only do angles make joints stronger, they ...\n",
       "1       100002  BEHR Premium Textured DECKOVER is an innovativ...\n",
       "2       100003  Classic architecture meets contemporary design...\n",
       "3       100004  The Grape Solar 265-Watt Polycrystalline PV So...\n",
       "4       100005  Update your bathroom with the Delta Vero Singl..."
      ]
     },
     "execution_count": 4,
     "metadata": {},
     "output_type": "execute_result"
    }
   ],
   "source": [
    "product_descriptions.head()"
   ]
  },
  {
   "cell_type": "code",
   "execution_count": 5,
   "metadata": {
    "id": "elo4fiYofLRa"
   },
   "outputs": [],
   "source": [
    "product_descr = product_descriptions.head(800)\n"
   ]
  },
  {
   "cell_type": "markdown",
   "metadata": {
    "id": "v0pkIg0ATsyL"
   },
   "source": [
    "### 3.2. Transform text data into a numerical representation\n",
    "\n",
    "The code you provided is using the TfidfVectorizer class from the sklearn.feature_extraction.text module to transform text data into a numerical representation that can be used for machine learning.\n",
    "\n",
    "- vectorizer = TfidfVectorizer(stop_words='english'): This line creates a TfidfVectorizer object named vectorizer with the stop_words parameter set to 'english'. The stop_words parameter tells the vectorizer to ignore common English words such as \"the\", \"and\", \"a\", etc., which are unlikely to be useful for modeling.\n",
    "\n",
    "- X1 = vectorizer.fit_transform(product_descriptions[\"product_description\"]): This line applies the fit_transform() method to the vectorizer object to transform the text data in the \"product_description\" column of the product_descriptions DataFrame into a sparse matrix of TF-IDF values. The resulting sparse matrix is stored in a variable named X1."
   ]
  },
  {
   "cell_type": "code",
   "execution_count": 6,
   "metadata": {
    "id": "9L19c6VKTsyM"
   },
   "outputs": [],
   "source": [
    "vectorizer = TfidfVectorizer(stop_words='english')\n",
    "X1 = vectorizer.fit_transform(product_descr[\"product_description\"])"
   ]
  },
  {
   "cell_type": "markdown",
   "metadata": {
    "id": "DcOZbnsRTsyM"
   },
   "source": [
    "# 4. Let's do some Visualization"
   ]
  },
  {
   "cell_type": "markdown",
   "metadata": {
    "id": "ENN2hp-dTsyM"
   },
   "source": [
    "Visualizing product clusters in subset of data after converted the text in product description into numerical data."
   ]
  },
  {
   "cell_type": "code",
   "execution_count": 7,
   "metadata": {
    "colab": {
     "base_uri": "https://localhost:8080/",
     "height": 487
    },
    "id": "QEbJMhcBTsyM",
    "outputId": "3313207f-43a3-48d0-a29a-f9738e6db472"
   },
   "outputs": [
    {
     "name": "stderr",
     "output_type": "stream",
     "text": [
      "/Library/Frameworks/Python.framework/Versions/3.10/lib/python3.10/site-packages/sklearn/cluster/_kmeans.py:870: FutureWarning: The default value of `n_init` will change from 10 to 'auto' in 1.4. Set the value of `n_init` explicitly to suppress the warning\n",
      "  warnings.warn(\n"
     ]
    },
    {
     "data": {
      "image/png": "[encoded data removed]",
      "text/plain": [
       "<Figure size 640x480 with 1 Axes>"
      ]
     },
     "metadata": {},
     "output_type": "display_data"
    }
   ],
   "source": [
    "# Fitting K-Means to the dataset for visualization referenced from kaggle to understand data\n",
    "\n",
    "X = X1\n",
    "\n",
    "kmeans = KMeans(n_clusters = 10, init = 'k-means++')\n",
    "y_kmeans = kmeans.fit_predict(X)\n",
    "plt.plot(y_kmeans, \".\")\n",
    "plt.show()\n"
   ]
  },
  {
   "cell_type": "markdown",
   "metadata": {
    "id": "NlnrbRu_TsyN"
   },
   "source": [
    "# 5. Data Processing"
   ]
  },
  {
   "cell_type": "markdown",
   "metadata": {
    "id": "gngfYOjRTsyN"
   },
   "source": [
    "### 5.1. Interpreting the results of a clustering algorithm\n",
    "\n",
    "Function print_cluster is useful for interpreting the results of a clustering algorithm that uses the K-means algorithm with the TF-IDF (term frequency-inverse document frequency) representation of text documents. By printing the top terms in each cluster, the function can give insight into the topics or themes that are being clustered together."
   ]
  },
  {
   "cell_type": "code",
   "execution_count": 8,
   "metadata": {
    "id": "Ti8NwrlVTsyN"
   },
   "outputs": [],
   "source": [
    "def print_cluster(i):\n",
    "    print(\"Cluster %d:\" % i),\n",
    "    for ind in order_centroids[i, :10]:\n",
    "        print(' %s' % terms[ind]),\n",
    "    print"
   ]
  },
  {
   "cell_type": "markdown",
   "metadata": {
    "id": "IboqTp9CTsyN"
   },
   "source": [
    "* Recommendation of product based on the current product selected by user.\n",
    "* To recommend related product based on, Frequently bought together. "
   ]
  },
  {
   "cell_type": "markdown",
   "metadata": {
    "id": "9qkzPO8RTsyP"
   },
   "source": [
    "### 5.2. Performs K-means clustering on a set of text documents represented as a matrix of TF-IDF values\n",
    "\n",
    "This code performs K-means clustering on a set of text documents represented as a matrix of TF-IDF (term frequency-inverse document frequency) values. The clustering is done using the KMeans class from the sklearn.cluster module.\n",
    "\n",
    "- First, the code defines the number of clusters to be used, true_k, which is set to 10. It then creates an instance of the KMeans class and fits it to the matrix of TF-IDF values using the fit method.\n",
    "\n",
    "- Next, the code prints the top terms in each cluster. This is done by iterating over each cluster, computing the order of the terms in the cluster centroid from largest to smallest, and printing the top 10 terms for each cluster using the print_cluster function.\n",
    "\n",
    "- The terms themselves are obtained from the vectorizer object, which is an instance of the TfidfVectorizer class from the sklearn.feature_extraction.text module. This object is used to convert the raw text data into a matrix of TF-IDF values."
   ]
  },
  {
   "cell_type": "code",
   "execution_count": 9,
   "metadata": {
    "colab": {
     "base_uri": "https://localhost:8080/"
    },
    "id": "eRtN7imlTsyP",
    "outputId": "d1c88179-84fa-4881-b4e9-fc02ac033181"
   },
   "outputs": [
    {
     "name": "stdout",
     "output_type": "stream",
     "text": [
      "Top terms per cluster:\n",
      "Cluster 0:\n",
      " paint\n",
      " tape\n",
      " wood\n",
      " painted\n",
      " california\n",
      " ft\n",
      " proposition\n",
      " nbsp\n",
      " residents\n",
      " 65\n",
      "Cluster 1:\n",
      " steel\n",
      " post\n",
      " ft\n",
      " fence\n",
      " metal\n",
      " patio\n",
      " lbs\n",
      " shelves\n",
      " frame\n",
      " gate\n",
      "Cluster 2:\n",
      " light\n",
      " led\n",
      " watt\n",
      " bulb\n",
      " fixture\n",
      " energy\n",
      " bulbs\n",
      " lighting\n",
      " fluorescent\n",
      " fuses\n",
      "Cluster 3:\n",
      " power\n",
      " speed\n",
      " cutting\n",
      " volt\n",
      " grip\n",
      " tool\n",
      " snow\n",
      " engine\n",
      " free\n",
      " battery\n",
      "Cluster 4:\n",
      " water\n",
      " toilet\n",
      " bowl\n",
      " flush\n",
      " nickel\n",
      " easy\n",
      " shower\n",
      " faucet\n",
      " design\n",
      " tank\n",
      "Cluster 5:\n",
      " door\n",
      " aluminum\n",
      " easy\n",
      " ladder\n",
      " storage\n",
      " attic\n",
      " doors\n",
      " frame\n",
      " shelves\n",
      " design\n",
      "Cluster 6:\n",
      " brush\n",
      " use\n",
      " roof\n",
      " popcorn\n",
      " provides\n",
      " easy\n",
      " roofing\n",
      " water\n",
      " seal\n",
      " ft\n",
      "Cluster 7:\n",
      " miter\n",
      " saw\n",
      " blade\n",
      " stand\n",
      " brackets\n",
      " cutting\n",
      " support\n",
      " lbs\n",
      " chime\n",
      " storage\n",
      "Cluster 8:\n",
      " wall\n",
      " stone\n",
      " natural\n",
      " indoor\n",
      " tile\n",
      " use\n",
      " outdoor\n",
      " piece\n",
      " rug\n",
      " ft\n",
      "Cluster 9:\n",
      " air\n",
      " fan\n",
      " control\n",
      " cooling\n",
      " ft\n",
      " cooking\n",
      " installation\n",
      " heat\n",
      " room\n",
      " temperature\n"
     ]
    }
   ],
   "source": [
    "# Optimal clusters is \n",
    "\n",
    "true_k = 10\n",
    "\n",
    "model = KMeans(n_clusters = true_k, init = 'k-means++', max_iter = 100, n_init = 1)\n",
    "model.fit(X1)\n",
    "\n",
    "print(\"Top terms per cluster:\")\n",
    "order_centroids = model.cluster_centers_.argsort()[:, ::-1]\n",
    "terms = vectorizer.get_feature_names_out()\n",
    "for i in range(true_k):\n",
    "    print_cluster(i)"
   ]
  },
  {
   "cell_type": "markdown",
   "metadata": {
    "id": "8E6e2DIDTsyP"
   },
   "source": [
    "### 5.3. The function show_recommendations() \n",
    "\n",
    "- This code defines a function show_recommendations that takes a product description as input and outputs the top terms in the cluster to which the product belongs. The function uses the K-means clustering model and the TF-IDF vectorizer object defined in the previous code block.\n",
    "\n",
    "- First, the function creates a new TF-IDF matrix Y containing the TF-IDF values for the input product description. This is done using the transform method of the vectorizer object.\n",
    "\n",
    "- Next, the function uses the predict method of the model object to predict the cluster to which the input product belongs. The predicted cluster is stored in the prediction variable.\n",
    "\n",
    "- Finally, the function calls the print_cluster function defined earlier to print the top terms in the predicted cluster. The predicted cluster ID is passed as an argument to the print_cluster function."
   ]
  },
  {
   "cell_type": "code",
   "execution_count": 10,
   "metadata": {
    "id": "hmyESqqOTsyP"
   },
   "outputs": [],
   "source": [
    "def show_recommendations(product):\n",
    "    Y = vectorizer.transform([product])\n",
    "    prediction = model.predict(Y)\n",
    "    print_cluster(prediction[0])"
   ]
  },
  {
   "cell_type": "markdown",
   "metadata": {
    "id": "CrIYYTs8TsyP"
   },
   "source": [
    "### 5.4. Predict recommended clusters\n",
    "\n",
    "Predict recommended cluster for product \"Resilient Vinyl Plank Flooring to add the warm\""
   ]
  },
  {
   "cell_type": "code",
   "execution_count": 11,
   "metadata": {
    "colab": {
     "base_uri": "https://localhost:8080/"
    },
    "id": "lKGdtAKhTsyP",
    "outputId": "70e820cb-0ecd-496f-befe-70a25209247f",
    "scrolled": true
   },
   "outputs": [
    {
     "name": "stdout",
     "output_type": "stream",
     "text": [
      "Cluster 8:\n",
      " wall\n",
      " stone\n",
      " natural\n",
      " indoor\n",
      " tile\n",
      " use\n",
      " outdoor\n",
      " piece\n",
      " rug\n",
      " ft\n"
     ]
    }
   ],
   "source": [
    "show_recommendations(\"Resilient Vinyl Plank Flooring to add the warm\")"
   ]
  },
  {
   "cell_type": "markdown",
   "metadata": {
    "id": "1BTjKgmoTsyQ"
   },
   "source": [
    "Predict recommended cluster for product \"spray paint\""
   ]
  },
  {
   "cell_type": "code",
   "execution_count": 12,
   "metadata": {
    "colab": {
     "base_uri": "https://localhost:8080/"
    },
    "id": "WLERt6ZQTsyQ",
    "outputId": "5dead4f2-f749-49f3-9cbb-49d46306d5ae"
   },
   "outputs": [
    {
     "name": "stdout",
     "output_type": "stream",
     "text": [
      "Cluster 0:\n",
      " paint\n",
      " tape\n",
      " wood\n",
      " painted\n",
      " california\n",
      " ft\n",
      " proposition\n",
      " nbsp\n",
      " residents\n",
      " 65\n"
     ]
    }
   ],
   "source": [
    "show_recommendations(\"spray paint\")"
   ]
  },
  {
   "cell_type": "markdown",
   "metadata": {
    "id": "1BGNbQu-TsyQ"
   },
   "source": [
    "Predict recommended cluster for product \"steel drill\""
   ]
  },
  {
   "cell_type": "code",
   "execution_count": 13,
   "metadata": {
    "colab": {
     "base_uri": "https://localhost:8080/"
    },
    "id": "ZCXXuWfNTsyR",
    "outputId": "c204c191-bae8-4580-8c63-129ed2ca130a"
   },
   "outputs": [
    {
     "name": "stdout",
     "output_type": "stream",
     "text": [
      "Cluster 1:\n",
      " steel\n",
      " post\n",
      " ft\n",
      " fence\n",
      " metal\n",
      " patio\n",
      " lbs\n",
      " shelves\n",
      " frame\n",
      " gate\n"
     ]
    }
   ],
   "source": [
    "show_recommendations(\"steel drill\")"
   ]
  },
  {
   "cell_type": "markdown",
   "metadata": {
    "id": "3Du6WBWjTsyR"
   },
   "source": [
    "In case a word appears in multiple clusters, the algorithm chooses the cluster with the highest frequency of occurance of the word."
   ]
  },
  {
   "cell_type": "markdown",
   "metadata": {
    "id": "H29IX2FTTsyR"
   },
   "source": [
    "Predict recommended cluster for product \"water\""
   ]
  },
  {
   "cell_type": "code",
   "execution_count": 14,
   "metadata": {
    "colab": {
     "base_uri": "https://localhost:8080/"
    },
    "id": "rs4PxbJ0TsyR",
    "outputId": "96d9c846-13f1-4581-bfa6-160e3c6e45a3"
   },
   "outputs": [
    {
     "name": "stdout",
     "output_type": "stream",
     "text": [
      "Cluster 4:\n",
      " water\n",
      " toilet\n",
      " bowl\n",
      " flush\n",
      " nickel\n",
      " easy\n",
      " shower\n",
      " faucet\n",
      " design\n",
      " tank\n"
     ]
    }
   ],
   "source": [
    "show_recommendations(\"water\")"
   ]
  },
  {
   "cell_type": "markdown",
   "metadata": {
    "id": "v-uWj-BzTsyS"
   },
   "source": [
    "Once a cluster is identified based on the user's search words, the recommendation system can display items from the corresponding product clusters based on the product descriptions."
   ]
  },
  {
   "cell_type": "markdown",
   "metadata": {
    "id": "d9-BHBeyTsyS"
   },
   "source": [
    "# Conclusion/Summary\n",
    "\n",
    "The product recommendations can be based on textual clustering analysis given in product description.\n",
    "- Transformed text data into a numerical representation that can be used for machine learning. \n",
    "- Converted the raw text data into a matrix of TF-IDF values. The function show_recommendations() uses the predict method of the model object to predict the cluster to which the input product belongs. \n",
    "- The predicted cluster is stored in the prediction variable.\n",
    "- Finally, the function calls the print_cluster function defined earlier to print the top terms in the predicted cluster. Once a cluster is identified based on the user's search words, the recommendation system can display items from the corresponding product clusters based on the product descriptions.\n",
    "\n",
    "This works best if a business is setting up its e-commerce website for the first time and does not have user-item purchase/rating history to start with initally. This recommendation system will help the users get a good recommendation to start with and once the buyers have a purchased history, the recommendation engine can use the model based collaborative filtering technique."
   ]
  }
 ],
 "metadata": {
  "colab": {
   "provenance": []
  },
  "kernelspec": {
   "display_name": "Python 3 (ipykernel)",
   "language": "python",
   "name": "python3"
  },
  "language_info": {
   "codemirror_mode": {
    "name": "ipython",
    "version": 3
   },
   "file_extension": ".py",
   "mimetype": "text/x-python",
   "name": "python",
   "nbconvert_exporter": "python",
   "pygments_lexer": "ipython3",
   "version": "3.10.5"
  },
  "toc": {
   "base_numbering": 1,
   "nav_menu": {},
   "number_sections": true,
   "sideBar": true,
   "skip_h1_title": false,
   "title_cell": "Table of Contents",
   "title_sidebar": "Contents",
   "toc_cell": false,
   "toc_position": {},
   "toc_section_display": true,
   "toc_window_display": false
  }
 },
 "nbformat": 4,
 "nbformat_minor": 1
}
